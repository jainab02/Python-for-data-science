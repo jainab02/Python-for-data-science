{
 "cells": [
  {
   "cell_type": "code",
   "execution_count": 2,
   "metadata": {},
   "outputs": [
    {
     "name": "stdout",
     "output_type": "stream",
     "text": [
      "value of a is 12\n",
      "datatype of b is  <class 'int'> and value is  2\n",
      "value of c given by you is   and the datatype of c is  <class 'str'>\n",
      "datatype of d is  <class 'str'> and value is  zainab\n",
      "datatype of e is  <class 'str'> and value is  a\n"
     ]
    }
   ],
   "source": [
    "##declare a variable and assign a value to it \n",
    "#using basic datatype type\n",
    "a=12\n",
    "print(\"value of a is\",a)\n",
    "\n",
    "b=2\n",
    "print(\"datatype of b is \" ,type(b), \"and value is \" , b)\n",
    "\n",
    "c = input(\"enter a value for c (word) : \")\n",
    "print(\"value of c given by you is \",c , \"and the datatype of c is \" , type(c))\n",
    "\n",
    "d = 'zainab'\n",
    "print(\"datatype of d is \" ,type(d), \"and value is \" , d)\n",
    "\n",
    "e = 'a'\n",
    "print(\"datatype of e is \" ,type(e), \"and value is \" , e)"
   ]
  },
  {
   "cell_type": "code",
   "execution_count": 4,
   "metadata": {},
   "outputs": [
    {
     "name": "stdout",
     "output_type": "stream",
     "text": [
      "Enter your details!\n",
      "\n",
      "please verify your details!\n",
      " \n",
      "your name is  \n",
      "your age is  \n",
      "you reside  in  \n",
      "your mobile no is  \n"
     ]
    }
   ],
   "source": [
    "#enter name age and address and print it \n",
    "print(\"Enter your details!\\n\")\n",
    "name=input(\"What is your name?\\n\")\n",
    "age= input(\"What is your age ?\\n\")\n",
    "address= input(\"Where do you live ?\\n\")\n",
    "contact=input(\"What is your mobile number ?\\n\")\n",
    "\n",
    "print(\"please verify your details!\\n \")\n",
    "\n",
    "print(\"your name is \",name)\n",
    "print(\"your age is \",age)\n",
    "print(\"you reside  in \",address)\n",
    "print(\"your mobile no is \",contact)"
   ]
  },
  {
   "cell_type": "code",
   "execution_count": 7,
   "metadata": {},
   "outputs": [
    {
     "name": "stdout",
     "output_type": "stream",
     "text": [
      "area of circle is  1810.944\n"
     ]
    }
   ],
   "source": [
    "#area of circle\n",
    "r=(int)(input(\"enter radius of the circle : \\n\"))\n",
    "pi=3.144\n",
    "area = (float)(pi*r*r)\n",
    "print (\"area of circle is \",area)"
   ]
  },
  {
   "cell_type": "code",
   "execution_count": 10,
   "metadata": {},
   "outputs": [
    {
     "name": "stdout",
     "output_type": "stream",
     "text": [
      "sum of three numbers  123 , 23 and 23  is  169\n",
      "average of three numbers  123 , 23 and 23  is  56.333333333333336\n"
     ]
    }
   ],
   "source": [
    "#sum and Average of three no\n",
    "n1=(int)(input(\"enter value for 1st number : \\n\"))\n",
    "n2=(int)(input(\"enter value for 2st number : \\n\"))\n",
    "n3=(int)(input(\"enter value for 3st number : \\n\"))\n",
    "sum=(int)(n1+n2+n3)\n",
    "print (\"sum of three numbers \",n1,\",\",n2,\"and\",n3,\" is \",sum)\n",
    "average = (float)(sum/3)\n",
    "print (\"average of three numbers \",n1,\",\",n2,\"and\",n3,\" is \",average)"
   ]
  },
  {
   "cell_type": "code",
   "execution_count": 11,
   "metadata": {},
   "outputs": [
    {
     "name": "stdout",
     "output_type": "stream",
     "text": [
      "month and days for the no of days given  98 is  3 month  8  days\n"
     ]
    }
   ],
   "source": [
    "#month and days for entered no of days\n",
    "d=(int)(input(\"enter the no of days \\n\"))\n",
    "\n",
    "month=(int)(d/30)\n",
    "days=d%30\n",
    "print(\"month and days for the no of days given \",d,\"is \",month,\"month \",days,\" days\")"
   ]
  }
 ],
 "metadata": {
  "kernelspec": {
   "display_name": "Python 3",
   "language": "python",
   "name": "python3"
  },
  "language_info": {
   "codemirror_mode": {
    "name": "ipython",
    "version": 3
   },
   "file_extension": ".py",
   "mimetype": "text/x-python",
   "name": "python",
   "nbconvert_exporter": "python",
   "pygments_lexer": "ipython3",
   "version": "3.10.5"
  },
  "orig_nbformat": 4,
  "vscode": {
   "interpreter": {
    "hash": "1b9da339e22f92bf7f1933627667fb9c1be782fe761e915e3d27f1ee8f2fa81e"
   }
  }
 },
 "nbformat": 4,
 "nbformat_minor": 2
}
