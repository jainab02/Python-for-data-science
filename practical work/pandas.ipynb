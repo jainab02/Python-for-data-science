{
 "cells": [
  {
   "cell_type": "code",
   "execution_count": 9,
   "metadata": {},
   "outputs": [],
   "source": [
    "import pandas as pd\n",
    "import numpy as np"
   ]
  },
  {
   "cell_type": "code",
   "execution_count": 10,
   "metadata": {},
   "outputs": [
    {
     "name": "stdout",
     "output_type": "stream",
     "text": [
      "series using list is:\n",
      "0       zainab\n",
      "1       shivam\n",
      "2    vaishnavi\n",
      "3       shreya\n",
      "dtype: object\n"
     ]
    }
   ],
   "source": [
    "#8(A)\n",
    "l = ['zainab','shivam','vaishnavi','shreya']\n",
    "s = pd.Series(l)\n",
    "print(\"series using list is:\")\n",
    "print(s)"
   ]
  },
  {
   "cell_type": "code",
   "execution_count": 11,
   "metadata": {},
   "outputs": [
    {
     "name": "stdout",
     "output_type": "stream",
     "text": [
      "series using dictionry is:\n",
      "1    25\n",
      "2    22\n",
      "3    12\n",
      "4    10\n",
      "dtype: int64\n"
     ]
    }
   ],
   "source": [
    "d = {1:25,2:22,3:12,4:10}\n",
    "s2 = pd.Series(d)\n",
    "print(\"series using dictionry is:\")\n",
    "print(s2)"
   ]
  },
  {
   "cell_type": "code",
   "execution_count": 12,
   "metadata": {},
   "outputs": [],
   "source": [
    "#8(B)\n",
    "df=pd.read_xml('PDS-excelsheet.xml')"
   ]
  },
  {
   "cell_type": "code",
   "execution_count": 13,
   "metadata": {},
   "outputs": [
    {
     "data": {
      "text/html": [
       "<div>\n",
       "<style scoped>\n",
       "    .dataframe tbody tr th:only-of-type {\n",
       "        vertical-align: middle;\n",
       "    }\n",
       "\n",
       "    .dataframe tbody tr th {\n",
       "        vertical-align: top;\n",
       "    }\n",
       "\n",
       "    .dataframe thead th {\n",
       "        text-align: right;\n",
       "    }\n",
       "</style>\n",
       "<table border=\"1\" class=\"dataframe\">\n",
       "  <thead>\n",
       "    <tr style=\"text-align: right;\">\n",
       "      <th></th>\n",
       "      <th>Author</th>\n",
       "      <th>LastAuthor</th>\n",
       "      <th>Created</th>\n",
       "      <th>Version</th>\n",
       "      <th>AllowPNG</th>\n",
       "      <th>WindowHeight</th>\n",
       "      <th>WindowWidth</th>\n",
       "      <th>WindowTopX</th>\n",
       "      <th>WindowTopY</th>\n",
       "      <th>ProtectStructure</th>\n",
       "      <th>ProtectWindows</th>\n",
       "      <th>Style</th>\n",
       "      <th>Name</th>\n",
       "      <th>Table</th>\n",
       "      <th>WorksheetOptions</th>\n",
       "    </tr>\n",
       "  </thead>\n",
       "  <tbody>\n",
       "    <tr>\n",
       "      <th>0</th>\n",
       "      <td>Jainab khatri</td>\n",
       "      <td>Jainab khatri</td>\n",
       "      <td>2022-10-14T07:35:02Z</td>\n",
       "      <td>16.0</td>\n",
       "      <td>NaN</td>\n",
       "      <td>NaN</td>\n",
       "      <td>NaN</td>\n",
       "      <td>NaN</td>\n",
       "      <td>NaN</td>\n",
       "      <td>None</td>\n",
       "      <td>None</td>\n",
       "      <td>NaN</td>\n",
       "      <td>None</td>\n",
       "      <td>NaN</td>\n",
       "      <td>NaN</td>\n",
       "    </tr>\n",
       "    <tr>\n",
       "      <th>1</th>\n",
       "      <td>None</td>\n",
       "      <td>None</td>\n",
       "      <td>None</td>\n",
       "      <td>NaN</td>\n",
       "      <td>NaN</td>\n",
       "      <td>NaN</td>\n",
       "      <td>NaN</td>\n",
       "      <td>NaN</td>\n",
       "      <td>NaN</td>\n",
       "      <td>None</td>\n",
       "      <td>None</td>\n",
       "      <td>NaN</td>\n",
       "      <td>None</td>\n",
       "      <td>NaN</td>\n",
       "      <td>NaN</td>\n",
       "    </tr>\n",
       "    <tr>\n",
       "      <th>2</th>\n",
       "      <td>None</td>\n",
       "      <td>None</td>\n",
       "      <td>None</td>\n",
       "      <td>NaN</td>\n",
       "      <td>NaN</td>\n",
       "      <td>6880.0</td>\n",
       "      <td>19200.0</td>\n",
       "      <td>32767.0</td>\n",
       "      <td>32767.0</td>\n",
       "      <td>False</td>\n",
       "      <td>False</td>\n",
       "      <td>NaN</td>\n",
       "      <td>None</td>\n",
       "      <td>NaN</td>\n",
       "      <td>NaN</td>\n",
       "    </tr>\n",
       "    <tr>\n",
       "      <th>3</th>\n",
       "      <td>None</td>\n",
       "      <td>None</td>\n",
       "      <td>None</td>\n",
       "      <td>NaN</td>\n",
       "      <td>NaN</td>\n",
       "      <td>NaN</td>\n",
       "      <td>NaN</td>\n",
       "      <td>NaN</td>\n",
       "      <td>NaN</td>\n",
       "      <td>None</td>\n",
       "      <td>None</td>\n",
       "      <td>NaN</td>\n",
       "      <td>None</td>\n",
       "      <td>NaN</td>\n",
       "      <td>NaN</td>\n",
       "    </tr>\n",
       "    <tr>\n",
       "      <th>4</th>\n",
       "      <td>None</td>\n",
       "      <td>None</td>\n",
       "      <td>None</td>\n",
       "      <td>NaN</td>\n",
       "      <td>NaN</td>\n",
       "      <td>NaN</td>\n",
       "      <td>NaN</td>\n",
       "      <td>NaN</td>\n",
       "      <td>NaN</td>\n",
       "      <td>None</td>\n",
       "      <td>None</td>\n",
       "      <td>NaN</td>\n",
       "      <td>PDS-excelsheet</td>\n",
       "      <td>NaN</td>\n",
       "      <td>NaN</td>\n",
       "    </tr>\n",
       "  </tbody>\n",
       "</table>\n",
       "</div>"
      ],
      "text/plain": [
       "          Author     LastAuthor               Created  Version  AllowPNG  \\\n",
       "0  Jainab khatri  Jainab khatri  2022-10-14T07:35:02Z     16.0       NaN   \n",
       "1           None           None                  None      NaN       NaN   \n",
       "2           None           None                  None      NaN       NaN   \n",
       "3           None           None                  None      NaN       NaN   \n",
       "4           None           None                  None      NaN       NaN   \n",
       "\n",
       "   WindowHeight  WindowWidth  WindowTopX  WindowTopY ProtectStructure  \\\n",
       "0           NaN          NaN         NaN         NaN             None   \n",
       "1           NaN          NaN         NaN         NaN             None   \n",
       "2        6880.0      19200.0     32767.0     32767.0            False   \n",
       "3           NaN          NaN         NaN         NaN             None   \n",
       "4           NaN          NaN         NaN         NaN             None   \n",
       "\n",
       "  ProtectWindows  Style            Name  Table  WorksheetOptions  \n",
       "0           None    NaN            None    NaN               NaN  \n",
       "1           None    NaN            None    NaN               NaN  \n",
       "2          False    NaN            None    NaN               NaN  \n",
       "3           None    NaN            None    NaN               NaN  \n",
       "4           None    NaN  PDS-excelsheet    NaN               NaN  "
      ]
     },
     "execution_count": 13,
     "metadata": {},
     "output_type": "execute_result"
    }
   ],
   "source": [
    "df.head()"
   ]
  },
  {
   "cell_type": "code",
   "execution_count": 14,
   "metadata": {},
   "outputs": [
    {
     "name": "stdout",
     "output_type": "stream",
     "text": [
      "2022-10-14\n",
      "\"Friday 14 October 2022\"\n"
     ]
    }
   ],
   "source": [
    "#8(D)\n",
    "from calendar import day_name\n",
    "from datetime import date\n",
    "from turtle import fd\n",
    "tdate=date.today()\n",
    "print(tdate)\n",
    "fdate = date.today().strftime( '\"%A %d %B %Y\"')\n",
    "print(fdate)"
   ]
  },
  {
   "cell_type": "code",
   "execution_count": 15,
   "metadata": {},
   "outputs": [
    {
     "name": "stdout",
     "output_type": "stream",
     "text": [
      "21\n"
     ]
    }
   ],
   "source": [
    "from datetime import date\n",
    "def age(birthdate):\n",
    "    age=tdate.year - birthdate.year - ((tdate.month,tdate.day) <(birthdate.month,birthdate.day))\n",
    "    return age\n",
    "print(age(date(2001,2,11)))"
   ]
  },
  {
   "cell_type": "code",
   "execution_count": 16,
   "metadata": {},
   "outputs": [
    {
     "name": "stdout",
     "output_type": "stream",
     "text": [
      "21 :36 :37\n",
      "2022-10-15 03:06:37.918508\n"
     ]
    }
   ],
   "source": [
    "from datetime import datetime, timedelta\n",
    "time=datetime.now()\n",
    "current = time.strftime('%H :%M :%S')\n",
    "print(current)\n",
    "newtime = time + timedelta(hours=5,minutes=30)\n",
    "print(newtime)"
   ]
  },
  {
   "cell_type": "code",
   "execution_count": 37,
   "metadata": {},
   "outputs": [
    {
     "name": "stdout",
     "output_type": "stream",
     "text": [
      "SimpleImputer(strategy='most_Frequent')\n"
     ]
    }
   ],
   "source": [
    "from sklearn.impute import SimpleImputer\n",
    "df1 = pd.DataFrame([[\"a\",\"x\"],[np.nan,\"y\"],[\"a\",np.nan],[\"b\",\"y\"]],dtype=\"category\")\n",
    "imp = SimpleImputer(strategy = \"most_Frequent\")\n",
    "print(imp)"
   ]
  },
  {
   "cell_type": "code",
   "execution_count": null,
   "metadata": {},
   "outputs": [],
   "source": [
    "color = pd.Series(['green','black','white'],dtype='category')\n",
    "mfgyear = pd.Series([2001,2002,2022],dtype='category')\n",
    "trtype = pd.Series(['automatic','manual','dual-clutch'],dtype= 'category')\n",
    "ctype = pd.Series(['sedan','hatchbook','Suv'],dtype='category')"
   ]
  }
 ],
 "metadata": {
  "kernelspec": {
   "display_name": "Python 3.10.5 64-bit",
   "language": "python",
   "name": "python3"
  },
  "language_info": {
   "codemirror_mode": {
    "name": "ipython",
    "version": 3
   },
   "file_extension": ".py",
   "mimetype": "text/x-python",
   "name": "python",
   "nbconvert_exporter": "python",
   "pygments_lexer": "ipython3",
   "version": "3.10.5"
  },
  "orig_nbformat": 4,
  "vscode": {
   "interpreter": {
    "hash": "1b9da339e22f92bf7f1933627667fb9c1be782fe761e915e3d27f1ee8f2fa81e"
   }
  }
 },
 "nbformat": 4,
 "nbformat_minor": 2
}
