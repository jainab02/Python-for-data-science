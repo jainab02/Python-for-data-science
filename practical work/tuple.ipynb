{
 "cells": [
  {
   "cell_type": "code",
   "execution_count": 1,
   "metadata": {},
   "outputs": [
    {
     "name": "stdout",
     "output_type": "stream",
     "text": [
      "(3, 8, 1, 6, 0, 8, 3, 3, 4, 4)\n"
     ]
    }
   ],
   "source": [
    "#creation of tuple and printing it\n",
    "my_tuple = (3,8,1,6,0,8,3,3,4,4)\n",
    "print(my_tuple)"
   ]
  },
  {
   "cell_type": "code",
   "execution_count": 2,
   "metadata": {},
   "outputs": [
    {
     "name": "stdout",
     "output_type": "stream",
     "text": [
      "length of tuple is  10\n"
     ]
    }
   ],
   "source": [
    "#length of tuple\n",
    "print(\"length of tuple is \",len(my_tuple))"
   ]
  },
  {
   "cell_type": "code",
   "execution_count": 3,
   "metadata": {},
   "outputs": [
    {
     "name": "stdout",
     "output_type": "stream",
     "text": [
      "True\n",
      "element doesnot exist\n"
     ]
    }
   ],
   "source": [
    "#checking whether the element is present in it or not\n",
    "print(6 in my_tuple)\n",
    "#using loop\n",
    "val =(int)(input(\"enter value you want to search : \"))\n",
    "if val in my_tuple:\n",
    "       print(\"element exist in tuple\")\n",
    "else:\n",
    "       print(\"element doesnot exist\")"
   ]
  },
  {
   "cell_type": "code",
   "execution_count": 5,
   "metadata": {},
   "outputs": [
    {
     "name": "stdout",
     "output_type": "stream",
     "text": [
      "before removal  (3, 8, 1, 6, 0, 8, 3, 3, 4, 4)\n",
      "after removal of 6th element  (3, 8, 1, 6, 0, 3, 3, 4, 4)\n",
      "\n",
      "\n"
     ]
    }
   ],
   "source": [
    "#removal of element using slicing\n",
    "print(\"before removal \",my_tuple)\n",
    "my_tuple = my_tuple[:5] + my_tuple[6:]\n",
    "print(\"after removal of 6th element \" , my_tuple)\n",
    "print(\"\\n\")"
   ]
  },
  {
   "cell_type": "code",
   "execution_count": 7,
   "metadata": {},
   "outputs": [
    {
     "name": "stdout",
     "output_type": "stream",
     "text": [
      "after removal :  (8, 1, 6, 0, 3, 3, 4, 4)\n"
     ]
    }
   ],
   "source": [
    "#removal using list\n",
    "newlist = list(my_tuple)\n",
    "newlist.remove(3)\n",
    "newtuple = tuple(newlist)\n",
    "print(\"after removal : \",newtuple)"
   ]
  },
  {
   "cell_type": "code",
   "execution_count": 8,
   "metadata": {},
   "outputs": [
    {
     "name": "stdout",
     "output_type": "stream",
     "text": [
      "1\n",
      "3\n"
     ]
    }
   ],
   "source": [
    "#index of element\n",
    "n = my_tuple.index(8)\n",
    "print(n)\n",
    "\n",
    "i = my_tuple.count(3)\n",
    "print(i)\n"
   ]
  }
 ],
 "metadata": {
  "kernelspec": {
   "display_name": "Python 3",
   "language": "python",
   "name": "python3"
  },
  "language_info": {
   "codemirror_mode": {
    "name": "ipython",
    "version": 3
   },
   "file_extension": ".py",
   "mimetype": "text/x-python",
   "name": "python",
   "nbconvert_exporter": "python",
   "pygments_lexer": "ipython3",
   "version": "3.10.5"
  },
  "orig_nbformat": 4,
  "vscode": {
   "interpreter": {
    "hash": "1b9da339e22f92bf7f1933627667fb9c1be782fe761e915e3d27f1ee8f2fa81e"
   }
  }
 },
 "nbformat": 4,
 "nbformat_minor": 2
}
