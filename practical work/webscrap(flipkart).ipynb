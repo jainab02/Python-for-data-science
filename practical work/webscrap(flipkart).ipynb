{
 "cells": [
  {
   "cell_type": "code",
   "execution_count": 2,
   "metadata": {},
   "outputs": [],
   "source": [
    "from bs4 import BeautifulSoup\n",
    "import requests\n",
    "import csv\n",
    "import pandas as pd\n"
   ]
  },
  {
   "cell_type": "code",
   "execution_count": 3,
   "metadata": {},
   "outputs": [],
   "source": [
    "url = 'https://www.flipkart.com/search?q=smartphone&sid=tyy%2C4io&as=on&as-show=on&otracker=AS_QueryStore_OrganicAutoSuggest_1_7_na_na_na&otracker1=AS_QueryStore_OrganicAutoSuggest_1_7_na_na_na&as-pos=1&as-type=HISTORY&suggestionId=smartphone%7CMobiles&requestId=f932e878-8fb8-4289-8266-e1c8b556539e'\n"
   ]
  },
  {
   "cell_type": "code",
   "execution_count": 5,
   "metadata": {},
   "outputs": [],
   "source": [
    "request = requests.get(url)\n",
    "content = BeautifulSoup(request.content, \"html.parser\")\n"
   ]
  },
  {
   "cell_type": "code",
   "execution_count": 6,
   "metadata": {},
   "outputs": [],
   "source": [
    "# print(content)\n"
   ]
  },
  {
   "cell_type": "code",
   "execution_count": 7,
   "metadata": {},
   "outputs": [
    {
     "name": "stdout",
     "output_type": "stream",
     "text": [
      "OPPO K10 (Blue Flame, 128 GB)\n",
      "₹12,990\n",
      "4.4\n"
     ]
    }
   ],
   "source": [
    "name = content.find_all('div', attrs={'class': '_4rR01T'})\n",
    "print(name[0].text)\n",
    "price = content.find_all('div', attrs={'class': '_30jeq3 _1_WHN1'})\n",
    "print(price[0].text)\n",
    "rate = content.find_all('div', attrs={'class': '_3LWZlK'})\n",
    "print(rate[0].text)\n"
   ]
  },
  {
   "cell_type": "code",
   "execution_count": 8,
   "metadata": {},
   "outputs": [],
   "source": [
    "prod = []\n",
    "pricing = []\n",
    "rating = []\n"
   ]
  },
  {
   "cell_type": "code",
   "execution_count": 9,
   "metadata": {},
   "outputs": [],
   "source": [
    "for i in name:\n",
    "    prod.append(i.text)\n",
    "for i in price:\n",
    "    pricing.append(i.text)\n",
    "for i in rate:\n",
    "    rating.append(i.text)\n"
   ]
  },
  {
   "cell_type": "code",
   "execution_count": 10,
   "metadata": {},
   "outputs": [
    {
     "name": "stdout",
     "output_type": "stream",
     "text": [
      "{'Name': ['OPPO K10 (Blue Flame, 128 GB)', 'OPPO K10 (Black Carbon, 128 GB)', 'REDMI 9i Sport (Coral Green, 64 GB)', 'POCO M4 Pro 5G (Power Black, 64 GB)', 'POCO C31 (Royal Blue, 32 GB)', 'POCO M4 Pro 5G (Cool Blue, 64 GB)', 'REDMI 10 (Midnight Black, 64 GB)', 'POCO C31 (Shadow Gray, 64 GB)', 'REDMI 10 (Pacific Blue, 64 GB)', 'POCO C31 (Royal Blue, 64 GB)', 'POCO M4 5G (Yellow, 64 GB)', 'POCO M4 Pro 5G (Cool Blue, 128 GB)', 'vivo T1 44W (Midnight Galaxy, 128 GB)', 'vivo T1 44W (Starry Sky, 128 GB)', 'MOTOROLA e40 (Carbon Gray, 64 GB)', 'REDMI 9i Sport (Metallic Blue, 64 GB)', 'POCO M4 Pro 5G (Yellow, 64 GB)', 'MOTOROLA g52 (Metallic White, 128 GB)', 'Infinix Hot 11S (Green Wave, 64 GB)', 'REDMI 10 (Caribbean Green, 64 GB)', 'POCO C31 (Shadow Gray, 32 GB)', 'vivo T1X (Gravity Black, 64 GB)', 'vivo T1X (Space Blue, 64 GB)', 'APPLE iPhone 11 (Red, 128 GB)'], 'Price': ['₹12,990', '₹12,990', '₹7,499', '₹11,999', '₹6,999', '₹11,999', '₹9,999', '₹7,999', '₹9,999', '₹7,999', '₹10,999', '₹13,999', '₹14,499', '₹14,499', '₹8,599', '₹7,499', '₹11,999', '₹13,999', '₹8,999', '₹9,999', '₹6,999', '₹11,999', '₹11,999', '₹43,999'], 'Rating': ['4.4', '4.4', '4.3', '4.3', '4.3', '4.3', '4.3', '4.3', '4.3', '4.3', '4.2', '4.2', '4.5', '4.5', '4.1', '4.3', '4.3', '4.2', '4.3', '4.3', '4.3', '4.5', '4.5', '4.6', '4.5', '5', '5', '4.3', '4', '5', '4.4', '4', '5', '4.3', '4', '3', '4.2', '4', '5']}\n"
     ]
    }
   ],
   "source": [
    "data = {\"Name\": prod, \"Price\": pricing, \"Rating\": rating}\n",
    "print(data)\n"
   ]
  },
  {
   "cell_type": "code",
   "execution_count": null,
   "metadata": {},
   "outputs": [],
   "source": [
    "df = pd.DataFrame({\"Name\": prod, \"Price\": pricing, \"Rating\": rating})\n",
    "df.head()"
   ]
  },
  {
   "cell_type": "code",
   "execution_count": null,
   "metadata": {},
   "outputs": [],
   "source": []
  }
 ],
 "metadata": {
  "kernelspec": {
   "display_name": "Python 3 (ipykernel)",
   "language": "python",
   "name": "python3"
  },
  "language_info": {
   "codemirror_mode": {
    "name": "ipython",
    "version": 3
   },
   "file_extension": ".py",
   "mimetype": "text/x-python",
   "name": "python",
   "nbconvert_exporter": "python",
   "pygments_lexer": "ipython3",
   "version": "3.10.5 (tags/v3.10.5:f377153, Jun  6 2022, 16:14:13) [MSC v.1929 64 bit (AMD64)]"
  },
  "vscode": {
   "interpreter": {
    "hash": "1b9da339e22f92bf7f1933627667fb9c1be782fe761e915e3d27f1ee8f2fa81e"
   }
  }
 },
 "nbformat": 4,
 "nbformat_minor": 2
}
