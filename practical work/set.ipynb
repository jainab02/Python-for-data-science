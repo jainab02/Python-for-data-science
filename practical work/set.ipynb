{
 "cells": [
  {
   "cell_type": "code",
   "execution_count": 2,
   "metadata": {},
   "outputs": [
    {
     "name": "stdout",
     "output_type": "stream",
     "text": [
      "created set : {0, 1, 3, 4, 6, 8}\n"
     ]
    }
   ],
   "source": [
    "# set creation and printing\n",
    "my_set = {3,8,1,6,0,8,4}\n",
    "print(\"created set :\",my_set)"
   ]
  },
  {
   "cell_type": "code",
   "execution_count": 8,
   "metadata": {},
   "outputs": [
    {
     "name": "stdout",
     "output_type": "stream",
     "text": [
      "{'z', 'n', 'a', 'i', 'b'}\n"
     ]
    }
   ],
   "source": [
    "string = 'zainab'\n",
    "print(set)"
   ]
  },
  {
   "cell_type": "code",
   "execution_count": 10,
   "metadata": {},
   "outputs": [
    {
     "name": "stdout",
     "output_type": "stream",
     "text": [
      "after addition of 10 in set : {0, 1, 3, 4, 6, 8, 10}\n"
     ]
    }
   ],
   "source": [
    "# addition of elemsts\n",
    "my_set.add(10)\n",
    "print(\"after addition of 10 in set :\",my_set)"
   ]
  },
  {
   "cell_type": "code",
   "execution_count": 12,
   "metadata": {},
   "outputs": [
    {
     "name": "stdout",
     "output_type": "stream",
     "text": [
      "after addition of 11 to 15 nos :  {0, 1, 3, 4, 6, 8, 10, 11, 12, 13, 14}\n"
     ]
    }
   ],
   "source": [
    "# addition of elements using range function\n",
    "for i in range(11,15):\n",
    "    my_set.add(i)\n",
    "print(\"after addition of 11 to 15 nos : \",my_set)"
   ]
  },
  {
   "cell_type": "code",
   "execution_count": 16,
   "metadata": {},
   "outputs": [
    {
     "name": "stdout",
     "output_type": "stream",
     "text": [
      "not available\n",
      "{0, 1, 3, 4, 6, 8, 11, 12, 13, 14}\n"
     ]
    }
   ],
   "source": [
    "# removal of element using if else\n",
    "val =(int)(input(\"enter value you want to remove : \"))\n",
    "if val in my_set:\n",
    "    my_set.remove(val)\n",
    "    print(\"removed!\")\n",
    "    print(my_set)\n",
    "else:\n",
    "    print(\"not available\")\n",
    "    \n",
    "    print(my_set)\n"
   ]
  },
  {
   "cell_type": "code",
   "execution_count": 23,
   "metadata": {},
   "outputs": [
    {
     "name": "stdout",
     "output_type": "stream",
     "text": [
      "{0, 4, 6, 8, 11, 12, 13, 14}\n"
     ]
    }
   ],
   "source": [
    "# removal of Element\n",
    "my_set.remove(1)\n",
    "print(my_set)"
   ]
  },
  {
   "cell_type": "code",
   "execution_count": 24,
   "metadata": {},
   "outputs": [
    {
     "name": "stdout",
     "output_type": "stream",
     "text": [
      "{0, 4, 6, 8, 11, 12, 13, 14}\n"
     ]
    }
   ],
   "source": [
    "# for the removal of elements which are either present or not\n",
    "my_set.discard(99)\n",
    "print(my_set)\n"
   ]
  }
 ],
 "metadata": {
  "kernelspec": {
   "display_name": "Python 3",
   "language": "python",
   "name": "python3"
  },
  "language_info": {
   "codemirror_mode": {
    "name": "ipython",
    "version": 3
   },
   "file_extension": ".py",
   "mimetype": "text/x-python",
   "name": "python",
   "nbconvert_exporter": "python",
   "pygments_lexer": "ipython3",
   "version": "3.10.5"
  },
  "orig_nbformat": 4,
  "vscode": {
   "interpreter": {
    "hash": "1b9da339e22f92bf7f1933627667fb9c1be782fe761e915e3d27f1ee8f2fa81e"
   }
  }
 },
 "nbformat": 4,
 "nbformat_minor": 2
}
