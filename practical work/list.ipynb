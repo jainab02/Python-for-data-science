{
 "cells": [
  {
   "cell_type": "code",
   "execution_count": 5,
   "metadata": {},
   "outputs": [
    {
     "name": "stdout",
     "output_type": "stream",
     "text": [
      "list is  [3, 8, 1, 6, 0, 8, 4]\n"
     ]
    }
   ],
   "source": [
    "#creating the list and printing it\n",
    "#list in python\n",
    "my_list = [3,8,1,6,0,8,4]\n",
    "print(\"list is \",my_list)"
   ]
  },
  {
   "cell_type": "code",
   "execution_count": 7,
   "metadata": {},
   "outputs": [
    {
     "name": "stdout",
     "output_type": "stream",
     "text": [
      "1\n",
      "2\n",
      "3\n",
      "4\n",
      "5\n",
      "6\n",
      "7\n",
      "8\n",
      "9\n",
      "list using range function is  range(1, 10)\n"
     ]
    }
   ],
   "source": [
    "#creating list using range function\n",
    "for i in range(1,10):\n",
    "    print(i)\n",
    "my_list1 = range(1,10,1)\n",
    "print(\"list using range function is \" ,my_list1)"
   ]
  },
  {
   "cell_type": "code",
   "execution_count": 9,
   "metadata": {},
   "outputs": [
    {
     "name": "stdout",
     "output_type": "stream",
     "text": [
      "list using for loop  1\n",
      "list using for loop  3\n",
      "list using for loop  45\n",
      "list using for loop  78\n",
      "list using for loop  67\n",
      "list using for loop  35\n",
      "list using for loop  5\n",
      "list using for loop  8\n",
      "list using for loop  33\n",
      "list using for loop  5\n",
      "list using for loop  55\n"
     ]
    }
   ],
   "source": [
    "#elements accessing using for loop\n",
    "my_list2 = [1,3,45,78,67,35,5,8,33,5,55]\n",
    "for i in my_list2:\n",
    "    print(\"list using for loop \",i)"
   ]
  },
  {
   "cell_type": "code",
   "execution_count": 11,
   "metadata": {},
   "outputs": [
    {
     "name": "stdout",
     "output_type": "stream",
     "text": [
      "elements using while loop \n",
      "[0]\n",
      "elements using while loop \n",
      "[1]\n",
      "elements using while loop \n",
      "[2]\n",
      "elements using while loop \n",
      "[3]\n",
      "elements using while loop \n",
      "[4]\n",
      "elements using while loop \n",
      "[5]\n",
      "elements using while loop \n",
      "[6]\n",
      "elements using while loop \n",
      "[7]\n",
      "elements using while loop \n",
      "[8]\n",
      "elements using while loop \n",
      "[9]\n",
      "elements using while loop \n",
      "[10]\n"
     ]
    }
   ],
   "source": [
    "#elements accessing using while loop\n",
    "my_list2 = [1,3,45,78,67,35,5,8,33,5,55]\n",
    "i = 0 \n",
    "while(i < (len(my_list2))):\n",
    "     print(\"elements using while loop \")\n",
    "     print([i])\n",
    "     i+=1"
   ]
  },
  {
   "cell_type": "code",
   "execution_count": 12,
   "metadata": {},
   "outputs": [
    {
     "name": "stdout",
     "output_type": "stream",
     "text": [
      "list before reversing  [234, 45, 67, 8, 9, 24, 456, 21, 21, 67]\n",
      "reversed list is  [67, 21, 21, 456, 24, 9, 8, 67, 45, 234]\n"
     ]
    }
   ],
   "source": [
    "#reversing the elements\n",
    "my_list3= [234,45,67,8,9,24,456,21,21,67]\n",
    "print(\"list before reversing \" , my_list3)\n",
    "reverse_list = []\n",
    "for i in my_list3:\n",
    "    reverse_list.insert(0,i)\n",
    "    \n",
    "print(\"reversed list is \" ,reverse_list)"
   ]
  },
  {
   "cell_type": "code",
   "execution_count": 14,
   "metadata": {},
   "outputs": [],
   "source": [
    "my_list4 = [243,66,7,8,77,55,33,77,'zainab']\n",
    "my_list = [2,3,4]\n",
    "ls =[67,5,6,8,3]"
   ]
  },
  {
   "cell_type": "code",
   "execution_count": 16,
   "metadata": {},
   "outputs": [
    {
     "name": "stdout",
     "output_type": "stream",
     "text": [
      "[243, 66, 7, 8, 77, 55, 33, 77, 'zainab', 'khatri', 'khatri']\n"
     ]
    }
   ],
   "source": [
    "#append method\n",
    "my_list4.append('khatri')\n",
    "print(my_list4)"
   ]
  },
  {
   "cell_type": "code",
   "execution_count": 18,
   "metadata": {},
   "outputs": [
    {
     "name": "stdout",
     "output_type": "stream",
     "text": [
      "[243, 66, 7, 'python', 'python', 8, 77, 55, 33, 77, 'zainab', 'khatri', 'khatri']\n"
     ]
    }
   ],
   "source": [
    "#insert method\n",
    "my_list4.insert(3,'python')\n",
    "print(my_list4)"
   ]
  },
  {
   "cell_type": "code",
   "execution_count": 20,
   "metadata": {},
   "outputs": [
    {
     "name": "stdout",
     "output_type": "stream",
     "text": [
      "[2, 3, 4, 243, 66, 7, 'python', 'python', 8, 77, 55, 33, 77, 'zainab', 'khatri', 'khatri', 243, 66, 7, 'python', 'python', 8, 77, 55, 33, 77, 'zainab', 'khatri', 'khatri']\n"
     ]
    }
   ],
   "source": [
    "#extend method\n",
    "my_list.extend(my_list4)\n",
    "print(my_list)"
   ]
  },
  {
   "cell_type": "code",
   "execution_count": 22,
   "metadata": {},
   "outputs": [
    {
     "name": "stdout",
     "output_type": "stream",
     "text": [
      "poped element is   khatri\n",
      "list after poping  [243, 66, 7, 'python', 'python', 8, 77, 55, 33, 77, 'zainab']\n"
     ]
    }
   ],
   "source": [
    "#pop method\n",
    "temp = my_list4.pop()\n",
    "print(\"poped element is  \" ,temp)\n",
    "print(\"list after poping \",my_list4)"
   ]
  },
  {
   "cell_type": "code",
   "execution_count": 23,
   "metadata": {},
   "outputs": [
    {
     "name": "stdout",
     "output_type": "stream",
     "text": [
      "[243, 7, 'python', 'python', 8, 77, 55, 33, 77, 'zainab']\n"
     ]
    }
   ],
   "source": [
    "#remove element\n",
    "my_list4.remove(66)\n",
    "print(my_list4) "
   ]
  },
  {
   "cell_type": "code",
   "execution_count": 24,
   "metadata": {},
   "outputs": [
    {
     "name": "stdout",
     "output_type": "stream",
     "text": [
      "[]\n"
     ]
    }
   ],
   "source": [
    "#clear method\n",
    "my_list.clear()\n",
    "print(my_list)"
   ]
  },
  {
   "cell_type": "code",
   "execution_count": 25,
   "metadata": {},
   "outputs": [
    {
     "name": "stdout",
     "output_type": "stream",
     "text": [
      "5\n"
     ]
    }
   ],
   "source": [
    "#index method\n",
    "i= my_list4.index(77)\n",
    "print(i)"
   ]
  },
  {
   "cell_type": "code",
   "execution_count": 26,
   "metadata": {},
   "outputs": [
    {
     "name": "stdout",
     "output_type": "stream",
     "text": [
      "2\n"
     ]
    }
   ],
   "source": [
    "#count method\n",
    "i=my_list4.count(77)\n",
    "print(i)"
   ]
  },
  {
   "cell_type": "code",
   "execution_count": 27,
   "metadata": {},
   "outputs": [
    {
     "name": "stdout",
     "output_type": "stream",
     "text": [
      "['zainab', 77, 33, 55, 77, 8, 'python', 'python', 7, 243]\n"
     ]
    }
   ],
   "source": [
    "#reverse method\n",
    "my_list4.reverse()\n",
    "print(my_list4)"
   ]
  },
  {
   "cell_type": "code",
   "execution_count": 28,
   "metadata": {},
   "outputs": [
    {
     "name": "stdout",
     "output_type": "stream",
     "text": [
      "[3, 5, 6, 8, 67]\n"
     ]
    }
   ],
   "source": [
    "#sort method\n",
    "ls.sort()\n",
    "print(ls)"
   ]
  }
 ],
 "metadata": {
  "kernelspec": {
   "display_name": "Python 3",
   "language": "python",
   "name": "python3"
  },
  "language_info": {
   "codemirror_mode": {
    "name": "ipython",
    "version": 3
   },
   "file_extension": ".py",
   "mimetype": "text/x-python",
   "name": "python",
   "nbconvert_exporter": "python",
   "pygments_lexer": "ipython3",
   "version": "3.10.5"
  },
  "orig_nbformat": 4,
  "vscode": {
   "interpreter": {
    "hash": "1b9da339e22f92bf7f1933627667fb9c1be782fe761e915e3d27f1ee8f2fa81e"
   }
  }
 },
 "nbformat": 4,
 "nbformat_minor": 2
}
